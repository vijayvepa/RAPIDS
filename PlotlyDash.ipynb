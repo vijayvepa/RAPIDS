{
 "cells": [
  {
   "cell_type": "markdown",
   "metadata": {},
   "source": [
    "# Install PIP Deps\n"
   ]
  },
  {
   "cell_type": "code",
   "execution_count": 15,
   "metadata": {
    "vscode": {
     "languageId": "shellscript"
    }
   },
   "outputs": [
    {
     "name": "stdout",
     "output_type": "stream",
     "text": [
      "Requirement already satisfied: dash in /opt/conda/lib/python3.12/site-packages (3.2.0)\n",
      "Requirement already satisfied: Flask<3.2,>=1.0.4 in /opt/conda/lib/python3.12/site-packages (from dash) (3.1.2)\n",
      "Requirement already satisfied: Werkzeug<3.2 in /opt/conda/lib/python3.12/site-packages (from dash) (3.1.3)\n",
      "Requirement already satisfied: plotly>=5.0.0 in /opt/conda/lib/python3.12/site-packages (from dash) (6.3.0)\n",
      "Requirement already satisfied: importlib-metadata in /opt/conda/lib/python3.12/site-packages (from dash) (8.7.0)\n",
      "Requirement already satisfied: typing-extensions>=4.1.1 in /opt/conda/lib/python3.12/site-packages (from dash) (4.15.0)\n",
      "Requirement already satisfied: requests in /opt/conda/lib/python3.12/site-packages (from dash) (2.32.5)\n",
      "Requirement already satisfied: retrying in /opt/conda/lib/python3.12/site-packages (from dash) (1.4.2)\n",
      "Requirement already satisfied: nest-asyncio in /opt/conda/lib/python3.12/site-packages (from dash) (1.6.0)\n",
      "Requirement already satisfied: setuptools in /opt/conda/lib/python3.12/site-packages (from dash) (80.9.0)\n",
      "Requirement already satisfied: blinker>=1.9.0 in /opt/conda/lib/python3.12/site-packages (from Flask<3.2,>=1.0.4->dash) (1.9.0)\n",
      "Requirement already satisfied: click>=8.1.3 in /opt/conda/lib/python3.12/site-packages (from Flask<3.2,>=1.0.4->dash) (8.3.0)\n",
      "Requirement already satisfied: itsdangerous>=2.2.0 in /opt/conda/lib/python3.12/site-packages (from Flask<3.2,>=1.0.4->dash) (2.2.0)\n",
      "Requirement already satisfied: jinja2>=3.1.2 in /opt/conda/lib/python3.12/site-packages (from Flask<3.2,>=1.0.4->dash) (3.1.6)\n",
      "Requirement already satisfied: markupsafe>=2.1.1 in /opt/conda/lib/python3.12/site-packages (from Flask<3.2,>=1.0.4->dash) (3.0.3)\n",
      "Requirement already satisfied: narwhals>=1.15.1 in /opt/conda/lib/python3.12/site-packages (from plotly>=5.0.0->dash) (2.6.0)\n",
      "Requirement already satisfied: packaging in /opt/conda/lib/python3.12/site-packages (from plotly>=5.0.0->dash) (25.0)\n",
      "Requirement already satisfied: zipp>=3.20 in /opt/conda/lib/python3.12/site-packages (from importlib-metadata->dash) (3.23.0)\n",
      "Requirement already satisfied: charset_normalizer<4,>=2 in /opt/conda/lib/python3.12/site-packages (from requests->dash) (3.4.3)\n",
      "Requirement already satisfied: idna<4,>=2.5 in /opt/conda/lib/python3.12/site-packages (from requests->dash) (3.10)\n",
      "Requirement already satisfied: urllib3<3,>=1.21.1 in /opt/conda/lib/python3.12/site-packages (from requests->dash) (2.5.0)\n",
      "Requirement already satisfied: certifi>=2017.4.17 in /opt/conda/lib/python3.12/site-packages (from requests->dash) (2025.8.3)\n",
      "Requirement already satisfied: dash-renderer in /opt/conda/lib/python3.12/site-packages (1.9.1)\n",
      "Requirement already satisfied: dash-html-components in /opt/conda/lib/python3.12/site-packages (2.0.0)\n",
      "Requirement already satisfied: dash-core-components in /opt/conda/lib/python3.12/site-packages (2.0.0)\n"
     ]
    }
   ],
   "source": [
    "!pip install dash\n",
    "!pip install dash-renderer\n",
    "!pip install dash-html-components\n",
    "!pip install dash-core-components"
   ]
  },
  {
   "cell_type": "markdown",
   "metadata": {},
   "source": [
    "# Import Dash Libs"
   ]
  },
  {
   "cell_type": "code",
   "execution_count": 16,
   "metadata": {},
   "outputs": [],
   "source": [
    "import dash\n",
    "from dash import dcc\n",
    "from dash import html\n"
   ]
  },
  {
   "cell_type": "markdown",
   "metadata": {},
   "source": [
    "# Start Dash Server"
   ]
  },
  {
   "cell_type": "code",
   "execution_count": 21,
   "metadata": {},
   "outputs": [
    {
     "name": "stdout",
     "output_type": "stream",
     "text": [
      "Initial config:  {'name': '__main__', 'assets_folder': '/home/rapids/notebooks/assets', 'assets_url_path': 'assets', 'assets_ignore': '', 'assets_path_ignore': None, 'assets_external_path': '', 'pages_folder': '/home/rapids/notebooks/pages', 'eager_loading': False, 'include_assets_files': True, 'url_base_pathname': None, 'routes_pathname_prefix': '/', 'requests_pathname_prefix': '/', 'serve_locally': True, 'compress': False, 'meta_tags': [], 'external_scripts': [], 'external_stylesheets': [], 'suppress_callback_exceptions': False, 'prevent_initial_callbacks': False, 'show_undo_redo': False, 'extra_hot_reload_paths': [], 'title': 'Dash', 'update_title': 'Updating...', 'include_pages_meta': True, 'description': None}\n"
     ]
    },
    {
     "data": {
      "text/html": [
       "\n",
       "        <iframe\n",
       "            width=\"100%\"\n",
       "            height=\"650\"\n",
       "            src=\"http://127.0.0.1:4050/\"\n",
       "            frameborder=\"0\"\n",
       "            allowfullscreen\n",
       "            \n",
       "        ></iframe>\n",
       "        "
      ],
      "text/plain": [
       "<IPython.lib.display.IFrame at 0x7fc3b8191e80>"
      ]
     },
     "metadata": {},
     "output_type": "display_data"
    },
    {
     "name": "stdout",
     "output_type": "stream",
     "text": [
      "Running on  {'name': '__main__', 'assets_folder': '/home/rapids/notebooks/assets', 'assets_url_path': 'assets', 'assets_ignore': '', 'assets_path_ignore': None, 'assets_external_path': '', 'pages_folder': '/home/rapids/notebooks/pages', 'eager_loading': False, 'include_assets_files': True, 'url_base_pathname': None, 'routes_pathname_prefix': '/', 'requests_pathname_prefix': '/', 'serve_locally': True, 'compress': False, 'meta_tags': [], 'external_scripts': [], 'external_stylesheets': [], 'suppress_callback_exceptions': False, 'prevent_initial_callbacks': False, 'show_undo_redo': False, 'extra_hot_reload_paths': [], 'title': 'Dash', 'update_title': 'Updating...', 'include_pages_meta': True, 'description': None}\n"
     ]
    }
   ],
   "source": [
    "app = dash.Dash()\n",
    "app.layout = html.Div([\n",
    "\t\thtml.H1('Hello Dash'),\n",
    "\t\thtml.Div('Dash: A data product development framework from Plotly.'),\n",
    "])\n",
    "\n",
    "print(\"Initial config: \", app.config)\n",
    "app.run(debug=True, port=4050)\n",
    "print(\"Running on \", app.config)\n",
    "  "
   ]
  },
  {
   "cell_type": "markdown",
   "metadata": {},
   "source": [
    "Check for localhost"
   ]
  }
 ],
 "metadata": {
  "kernelspec": {
   "display_name": "Python 3 (ipykernel)",
   "language": "python",
   "name": "python3"
  },
  "language_info": {
   "codemirror_mode": {
    "name": "ipython",
    "version": 3
   },
   "file_extension": ".py",
   "mimetype": "text/x-python",
   "name": "python",
   "nbconvert_exporter": "python",
   "pygments_lexer": "ipython3",
   "version": "3.12.11"
  }
 },
 "nbformat": 4,
 "nbformat_minor": 2
}
